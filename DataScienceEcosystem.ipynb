{
 "cells": [
  {
   "cell_type": "markdown",
   "id": "bff72363",
   "metadata": {},
   "source": [
    "# Data Science Tools and Ecosystem\n"
   ]
  },
  {
   "cell_type": "markdown",
   "id": "03a6b17e",
   "metadata": {},
   "source": [
    "In this notebook, Data Science Tools and Ecosystem are summarized."
   ]
  },
  {
   "cell_type": "markdown",
   "id": "fb245cd9",
   "metadata": {},
   "source": [
    "## Objectives\n",
    "- List popular data science languages\n",
    "- List popular data science packages\n",
    "- Explore Jupyter Markdown functionality\n",
    "- Test code to evaluate simple mathematical expressions\n"
   ]
  },
  {
   "cell_type": "markdown",
   "id": "c0fdd745",
   "metadata": {},
   "source": [
    "Some of the popular languages that Data Scientists use are:\n",
    "1. Python\n",
    "2. R\n",
    "3. SQL"
   ]
  },
  {
   "cell_type": "markdown",
   "id": "f78046ad",
   "metadata": {},
   "source": [
    "Some of the commonly used libraries used by Data Scientists include:\n",
    "\n",
    "1. ggplot\n",
    "2. pandas\n",
    "3. numpy\n",
    "4. matplotlib\n",
    "5. tidyr\n",
    "6. scikitlearn"
   ]
  },
  {
   "cell_type": "markdown",
   "id": "74b28bd8",
   "metadata": {},
   "source": [
    "| Data Science Tools | \n",
    "| --- |\n",
    "| Git |\n",
    "| Rstudio |\n",
    "| Python |"
   ]
  },
  {
   "cell_type": "markdown",
   "id": "65343c20",
   "metadata": {},
   "source": [
    "###  Below are a few examples of evaluating arithmetic expressions in Python\n",
    "\n",
    "$sin(0)$ = 0\n",
    "\n",
    "$10^2$ = 100\n",
    "\n",
    "$a^2 + b^2$ = $c^2$"
   ]
  },
  {
   "cell_type": "code",
   "execution_count": 3,
   "id": "ee8d7504",
   "metadata": {},
   "outputs": [
    {
     "name": "stdout",
     "output_type": "stream",
     "text": [
      "17\n"
     ]
    }
   ],
   "source": [
    "# This is a simple arithmetic expression to multiply then add integers\n",
    "\n",
    "print((3*4)+5)"
   ]
  },
  {
   "cell_type": "code",
   "execution_count": 4,
   "id": "74f707d5",
   "metadata": {},
   "outputs": [
    {
     "data": {
      "text/plain": [
       "3.3333333333333335"
      ]
     },
     "execution_count": 4,
     "metadata": {},
     "output_type": "execute_result"
    }
   ],
   "source": [
    "# This willl convert 200 minutes to hours by dividing by 60\n",
    "def min2hour(min):\n",
    "    return(min/60)\n",
    "\n",
    "min2hour(200)"
   ]
  },
  {
   "cell_type": "markdown",
   "id": "5a095041",
   "metadata": {},
   "source": [
    "## Author\n",
    "Drew Wagner"
   ]
  }
 ],
 "metadata": {
  "kernelspec": {
   "display_name": "Python 3 (ipykernel)",
   "language": "python",
   "name": "python3"
  },
  "language_info": {
   "codemirror_mode": {
    "name": "ipython",
    "version": 3
   },
   "file_extension": ".py",
   "mimetype": "text/x-python",
   "name": "python",
   "nbconvert_exporter": "python",
   "pygments_lexer": "ipython3",
   "version": "3.11.5"
  }
 },
 "nbformat": 4,
 "nbformat_minor": 5
}
